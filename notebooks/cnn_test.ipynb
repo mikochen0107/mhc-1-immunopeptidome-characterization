{
 "cells": [
  {
   "cell_type": "code",
   "execution_count": null,
   "metadata": {},
   "outputs": [],
   "source": [
    "import os\n",
    "import sys\n",
    "sys.path.append(\"..\")  # add top folder to path\n",
    "\n",
    "import impepdom\n",
    "\n",
    "# os.listdir('../datasets/MHC_I_el_allele_specific')\n",
    "hla_alleles = [\n",
    "    'HLA-B44:03',  \n",
    "    'HLA-B08:01',  # >>> Khoi 1\n",
    "    'HLA-A01:01',\n",
    "    'HLA-B15:01',  \n",
    "    'HLA-A02:01', \n",
    "    'HLA-A03:01',  # <<< Khoi 1\n",
    "    'HLA-B07:02',  # >>> Khoi 2 <<<\n",
    "    'HLA-A24:02',  \n",
    "    'HLA-B27:05',  # >>> Michael\n",
    "    'HLA-A68:01'   # <<< Michael\n",
    "]\n",
    "\n",
    "hla_alleles_test = ['HLA-A01:01']\n",
    "\n",
    "impepdom.time_tracker.reset_timer()  # start counting time\n",
    "\n",
    "for i, hla_allele in enumerate(hla_alleles_test):  # change allele list here\n",
    "    print(impepdom.time_tracker.now() + 'working with allele {0} out of {1}'.format(i + 1, len(hla_alleles_test)))  # change allele list here\n",
    "    \n",
    "    model = impepdom.models.MultilayerPerceptron(num_conv_layers=2, conv_stride=1, conv=True)  # reset model\n",
    "    dataset = impepdom.PeptideDataset(\n",
    "        hla_allele=hla_allele,  \n",
    "        padding='flurry',\n",
    "        toy=False)\n",
    "        \n",
    "    best_config = impepdom.hyperparam_grid_search(\n",
    "        model,\n",
    "        dataset,\n",
    "        max_epochs=15,\n",
    "        batch_sizes=[32, 64, 128],\n",
    "        learning_rates=[5e-4, 1e-3, 5e-3, 1e-2, 5e-2, 1e-1],\n",
    "    )\n",
    "\n",
    "    print(best_config)"
   ]
  }
 ],
 "metadata": {
  "kernelspec": {
   "display_name": "Python 3",
   "language": "python",
   "name": "python3"
  },
  "language_info": {
   "codemirror_mode": {
    "name": "ipython",
    "version": 3
   },
   "file_extension": ".py",
   "mimetype": "text/x-python",
   "name": "python",
   "nbconvert_exporter": "python",
   "pygments_lexer": "ipython3",
   "version": "3.7.1"
  }
 },
 "nbformat": 4,
 "nbformat_minor": 4
}