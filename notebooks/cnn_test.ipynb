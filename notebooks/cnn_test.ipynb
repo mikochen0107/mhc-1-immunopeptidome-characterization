{
 "cells": [
  {
   "cell_type": "code",
   "execution_count": 1,
   "metadata": {},
   "outputs": [],
   "source": [
    "import os\n",
    "import sys\n",
    "sys.path.append(\"..\")  # add top folder to path\n",
    "\n",
    "import impepdom"
   ]
  },
  {
   "cell_type": "code",
   "execution_count": 16,
   "metadata": {},
   "outputs": [
    {
     "output_type": "error",
     "ename": "AttributeError",
     "evalue": "module 'impepdom' has no attribute 'time_tracker'",
     "traceback": [
      "\u001b[0;31m---------------------------------------------------------------------------\u001b[0m",
      "\u001b[0;31mAttributeError\u001b[0m                            Traceback (most recent call last)",
      "\u001b[0;32m<ipython-input-16-4b4a73343fcc>\u001b[0m in \u001b[0;36m<module>\u001b[0;34m\u001b[0m\n\u001b[1;32m     15\u001b[0m \u001b[0mhla_alleles_test\u001b[0m \u001b[0;34m=\u001b[0m \u001b[0;34m[\u001b[0m\u001b[0;34m'HLA-A01:01'\u001b[0m\u001b[0;34m]\u001b[0m\u001b[0;34m\u001b[0m\u001b[0m\n\u001b[1;32m     16\u001b[0m \u001b[0;34m\u001b[0m\u001b[0m\n\u001b[0;32m---> 17\u001b[0;31m \u001b[0mimpepdom\u001b[0m\u001b[0;34m.\u001b[0m\u001b[0mtime_tracker\u001b[0m\u001b[0;34m.\u001b[0m\u001b[0mreset_timer\u001b[0m\u001b[0;34m(\u001b[0m\u001b[0;34m)\u001b[0m  \u001b[0;31m# start counting time\u001b[0m\u001b[0;34m\u001b[0m\u001b[0m\n\u001b[0m\u001b[1;32m     18\u001b[0m \u001b[0;34m\u001b[0m\u001b[0m\n\u001b[1;32m     19\u001b[0m \u001b[0;32mfor\u001b[0m \u001b[0mi\u001b[0m\u001b[0;34m,\u001b[0m \u001b[0mhla_allele\u001b[0m \u001b[0;32min\u001b[0m \u001b[0menumerate\u001b[0m\u001b[0;34m(\u001b[0m\u001b[0mhla_alleles_test\u001b[0m\u001b[0;34m)\u001b[0m\u001b[0;34m:\u001b[0m  \u001b[0;31m# change allele list here\u001b[0m\u001b[0;34m\u001b[0m\u001b[0m\n",
      "\u001b[0;31mAttributeError\u001b[0m: module 'impepdom' has no attribute 'time_tracker'"
     ]
    }
   ],
   "source": [
    "\n",
    "# os.listdir('../datasets/MHC_I_el_allele_specific')\n",
    "hla_alleles = [\n",
    "    'HLA-B44:03',  \n",
    "    'HLA-B08:01',  # >>> Khoi 1\n",
    "    'HLA-A01:01',\n",
    "    'HLA-B15:01',  \n",
    "    'HLA-A02:01', \n",
    "    'HLA-A03:01',  # <<< Khoi 1\n",
    "    'HLA-B07:02',  # >>> Khoi 2 <<<\n",
    "    'HLA-A24:02',  \n",
    "    'HLA-B27:05',  # >>> Michael\n",
    "    'HLA-A68:01'   # <<< Michael\n",
    "]\n",
    "\n",
    "hla_alleles_test = ['HLA-A01:01']\n",
    "\n",
    "impepdom.time_tracker.reset_timer()  # start counting time\n",
    "\n",
    "for i, hla_allele in enumerate(hla_alleles_test):  # change allele list here\n",
    "    print(impepdom.time_tracker.now() + 'working with allele {0} out of {1}'.format(i + 1, len(hla_alleles_test)))  # change allele list here\n",
    "    \n",
    "    dataset = 'MultilayerPerceptor'\n",
    "    dataset = impepdom.PeptideDataset(\n",
    "        hla_allele=hla_allele,  \n",
    "        padding='flurry',\n",
    "        toy=False)\n",
    "        \n",
    "    best_config = impepdom.hyperparam_grid_search(\n",
    "        model_type=dataset,\n",
    "        dataset=dataset,\n",
    "        max_epochs=15,\n",
    "        batch_sizes=[32],\n",
    "        learning_rates=[5e-3],\n",
    "\n",
    "        dropout_input_list=[0.85],\n",
    "        dropout_hidden_list=[0.65],\n",
    "        conv_flags=[True],\n",
    "        num_conv_layers_list=[2],\n",
    "        conv_filt_sz_list=[5],\n",
    "        conv_stride_list=[1],\n",
    "    )\n",
    "\n",
    "    print(best_config)"
   ]
  },
  {
   "cell_type": "code",
   "execution_count": null,
   "metadata": {},
   "outputs": [],
   "source": []
  }
 ],
 "metadata": {
  "kernelspec": {
   "display_name": "Python 3.6.5 64-bit ('mhc-1-immunopeptidome-characterization': pipenv)",
   "language": "python",
   "name": "python36564bitmhc1immunopeptidomecharacterizationpipenvfc41a3270a904987954d451e24bbfe16"
  },
  "language_info": {
   "codemirror_mode": {
    "name": "ipython",
    "version": 3
   },
   "file_extension": ".py",
   "mimetype": "text/x-python",
   "name": "python",
   "nbconvert_exporter": "python",
   "pygments_lexer": "ipython3",
   "version": "3.6.5-final"
  }
 },
 "nbformat": 4,
 "nbformat_minor": 4
}