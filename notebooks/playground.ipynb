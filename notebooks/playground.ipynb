{
 "cells": [
  {
   "cell_type": "code",
   "execution_count": 15,
   "metadata": {},
   "outputs": [],
   "source": [
    "import os\n",
    "import sys\n",
    "sys.path.append(\"..\")  # add top folder to path\n",
    "\n",
    "import impepdom\n",
    "import numpy as np\n",
    "import pandas as pd\n",
    "import scipy as sp\n",
    "import torch"
   ]
  },
  {
   "cell_type": "code",
   "execution_count": 16,
   "metadata": {},
   "outputs": [
    {
     "ename": "KeyError",
     "evalue": "'min_auc'",
     "output_type": "error",
     "traceback": [
      "\u001b[0;31m---------------------------------------------------------------------------\u001b[0m",
      "\u001b[0;31mKeyError\u001b[0m                                  Traceback (most recent call last)",
      "\u001b[0;32m~/.local/share/virtualenvs/mhc-1-immunopeptidome-characterization-yRC4iDIz/lib/python3.6/site-packages/pandas/core/indexes/base.py\u001b[0m in \u001b[0;36mget_loc\u001b[0;34m(self, key, method, tolerance)\u001b[0m\n\u001b[1;32m   2645\u001b[0m             \u001b[0;32mtry\u001b[0m\u001b[0;34m:\u001b[0m\u001b[0;34m\u001b[0m\u001b[0m\n\u001b[0;32m-> 2646\u001b[0;31m                 \u001b[0;32mreturn\u001b[0m \u001b[0mself\u001b[0m\u001b[0;34m.\u001b[0m\u001b[0m_engine\u001b[0m\u001b[0;34m.\u001b[0m\u001b[0mget_loc\u001b[0m\u001b[0;34m(\u001b[0m\u001b[0mkey\u001b[0m\u001b[0;34m)\u001b[0m\u001b[0;34m\u001b[0m\u001b[0m\n\u001b[0m\u001b[1;32m   2647\u001b[0m             \u001b[0;32mexcept\u001b[0m \u001b[0mKeyError\u001b[0m\u001b[0;34m:\u001b[0m\u001b[0;34m\u001b[0m\u001b[0m\n",
      "\u001b[0;32mpandas/_libs/index.pyx\u001b[0m in \u001b[0;36mpandas._libs.index.IndexEngine.get_loc\u001b[0;34m()\u001b[0m\n",
      "\u001b[0;32mpandas/_libs/index.pyx\u001b[0m in \u001b[0;36mpandas._libs.index.IndexEngine.get_loc\u001b[0;34m()\u001b[0m\n",
      "\u001b[0;32mpandas/_libs/hashtable_class_helper.pxi\u001b[0m in \u001b[0;36mpandas._libs.hashtable.PyObjectHashTable.get_item\u001b[0;34m()\u001b[0m\n",
      "\u001b[0;32mpandas/_libs/hashtable_class_helper.pxi\u001b[0m in \u001b[0;36mpandas._libs.hashtable.PyObjectHashTable.get_item\u001b[0;34m()\u001b[0m\n",
      "\u001b[0;31mKeyError\u001b[0m: 'min_auc'",
      "\nDuring handling of the above exception, another exception occurred:\n",
      "\u001b[0;31mKeyError\u001b[0m                                  Traceback (most recent call last)",
      "\u001b[0;32m<ipython-input-16-11df0c01d6dd>\u001b[0m in \u001b[0;36m<module>\u001b[0;34m\u001b[0m\n\u001b[1;32m     10\u001b[0m     \u001b[0mallele\u001b[0m \u001b[0;34m=\u001b[0m \u001b[0;34m'HLA-'\u001b[0m \u001b[0;34m+\u001b[0m \u001b[0mfile\u001b[0m\u001b[0;34m[\u001b[0m\u001b[0;36m10\u001b[0m\u001b[0;34m:\u001b[0m\u001b[0;34m-\u001b[0m\u001b[0;36m4\u001b[0m\u001b[0;34m]\u001b[0m\u001b[0;34m.\u001b[0m\u001b[0mupper\u001b[0m\u001b[0;34m(\u001b[0m\u001b[0;34m)\u001b[0m \u001b[0;31m# change to appropriate name\u001b[0m\u001b[0;34m\u001b[0m\u001b[0m\n\u001b[1;32m     11\u001b[0m     \u001b[0mdf\u001b[0m \u001b[0;34m=\u001b[0m \u001b[0mpd\u001b[0m\u001b[0;34m.\u001b[0m\u001b[0mread_csv\u001b[0m\u001b[0;34m(\u001b[0m\u001b[0mpath\u001b[0m \u001b[0;34m+\u001b[0m \u001b[0;34m'/'\u001b[0m \u001b[0;34m+\u001b[0m \u001b[0mfile\u001b[0m\u001b[0;34m)\u001b[0m\u001b[0;34m\u001b[0m\u001b[0m\n\u001b[0;32m---> 12\u001b[0;31m     \u001b[0midx\u001b[0m \u001b[0;34m=\u001b[0m \u001b[0;34m(\u001b[0m\u001b[0mdf\u001b[0m\u001b[0;34m[\u001b[0m\u001b[0;34m'min_auc'\u001b[0m\u001b[0;34m]\u001b[0m\u001b[0;34m.\u001b[0m\u001b[0mnotna\u001b[0m\u001b[0;34m(\u001b[0m\u001b[0;34m)\u001b[0m \u001b[0;34m&\u001b[0m \u001b[0mdf\u001b[0m\u001b[0;34m[\u001b[0m\u001b[0;34m'mean_ppv'\u001b[0m\u001b[0;34m]\u001b[0m\u001b[0;34m.\u001b[0m\u001b[0mnotna\u001b[0m\u001b[0;34m(\u001b[0m\u001b[0;34m)\u001b[0m\u001b[0;34m)\u001b[0m\u001b[0;34m\u001b[0m\u001b[0m\n\u001b[0m\u001b[1;32m     13\u001b[0m \u001b[0;34m\u001b[0m\u001b[0m\n\u001b[1;32m     14\u001b[0m     \u001b[0;31m# best_3_rows = (-sp.stats.hmean([df['min_auc'][idx], df['mean_ppv'][idx]])).argsort()[:3] # for top 3 rows with best harmonic mean value\u001b[0m\u001b[0;34m\u001b[0m\u001b[0;34m\u001b[0m\u001b[0m\n",
      "\u001b[0;32m~/.local/share/virtualenvs/mhc-1-immunopeptidome-characterization-yRC4iDIz/lib/python3.6/site-packages/pandas/core/frame.py\u001b[0m in \u001b[0;36m__getitem__\u001b[0;34m(self, key)\u001b[0m\n\u001b[1;32m   2798\u001b[0m             \u001b[0;32mif\u001b[0m \u001b[0mself\u001b[0m\u001b[0;34m.\u001b[0m\u001b[0mcolumns\u001b[0m\u001b[0;34m.\u001b[0m\u001b[0mnlevels\u001b[0m \u001b[0;34m>\u001b[0m \u001b[0;36m1\u001b[0m\u001b[0;34m:\u001b[0m\u001b[0;34m\u001b[0m\u001b[0m\n\u001b[1;32m   2799\u001b[0m                 \u001b[0;32mreturn\u001b[0m \u001b[0mself\u001b[0m\u001b[0;34m.\u001b[0m\u001b[0m_getitem_multilevel\u001b[0m\u001b[0;34m(\u001b[0m\u001b[0mkey\u001b[0m\u001b[0;34m)\u001b[0m\u001b[0;34m\u001b[0m\u001b[0m\n\u001b[0;32m-> 2800\u001b[0;31m             \u001b[0mindexer\u001b[0m \u001b[0;34m=\u001b[0m \u001b[0mself\u001b[0m\u001b[0;34m.\u001b[0m\u001b[0mcolumns\u001b[0m\u001b[0;34m.\u001b[0m\u001b[0mget_loc\u001b[0m\u001b[0;34m(\u001b[0m\u001b[0mkey\u001b[0m\u001b[0;34m)\u001b[0m\u001b[0;34m\u001b[0m\u001b[0m\n\u001b[0m\u001b[1;32m   2801\u001b[0m             \u001b[0;32mif\u001b[0m \u001b[0mis_integer\u001b[0m\u001b[0;34m(\u001b[0m\u001b[0mindexer\u001b[0m\u001b[0;34m)\u001b[0m\u001b[0;34m:\u001b[0m\u001b[0;34m\u001b[0m\u001b[0m\n\u001b[1;32m   2802\u001b[0m                 \u001b[0mindexer\u001b[0m \u001b[0;34m=\u001b[0m \u001b[0;34m[\u001b[0m\u001b[0mindexer\u001b[0m\u001b[0;34m]\u001b[0m\u001b[0;34m\u001b[0m\u001b[0m\n",
      "\u001b[0;32m~/.local/share/virtualenvs/mhc-1-immunopeptidome-characterization-yRC4iDIz/lib/python3.6/site-packages/pandas/core/indexes/base.py\u001b[0m in \u001b[0;36mget_loc\u001b[0;34m(self, key, method, tolerance)\u001b[0m\n\u001b[1;32m   2646\u001b[0m                 \u001b[0;32mreturn\u001b[0m \u001b[0mself\u001b[0m\u001b[0;34m.\u001b[0m\u001b[0m_engine\u001b[0m\u001b[0;34m.\u001b[0m\u001b[0mget_loc\u001b[0m\u001b[0;34m(\u001b[0m\u001b[0mkey\u001b[0m\u001b[0;34m)\u001b[0m\u001b[0;34m\u001b[0m\u001b[0m\n\u001b[1;32m   2647\u001b[0m             \u001b[0;32mexcept\u001b[0m \u001b[0mKeyError\u001b[0m\u001b[0;34m:\u001b[0m\u001b[0;34m\u001b[0m\u001b[0m\n\u001b[0;32m-> 2648\u001b[0;31m                 \u001b[0;32mreturn\u001b[0m \u001b[0mself\u001b[0m\u001b[0;34m.\u001b[0m\u001b[0m_engine\u001b[0m\u001b[0;34m.\u001b[0m\u001b[0mget_loc\u001b[0m\u001b[0;34m(\u001b[0m\u001b[0mself\u001b[0m\u001b[0;34m.\u001b[0m\u001b[0m_maybe_cast_indexer\u001b[0m\u001b[0;34m(\u001b[0m\u001b[0mkey\u001b[0m\u001b[0;34m)\u001b[0m\u001b[0;34m)\u001b[0m\u001b[0;34m\u001b[0m\u001b[0m\n\u001b[0m\u001b[1;32m   2649\u001b[0m         \u001b[0mindexer\u001b[0m \u001b[0;34m=\u001b[0m \u001b[0mself\u001b[0m\u001b[0;34m.\u001b[0m\u001b[0mget_indexer\u001b[0m\u001b[0;34m(\u001b[0m\u001b[0;34m[\u001b[0m\u001b[0mkey\u001b[0m\u001b[0;34m]\u001b[0m\u001b[0;34m,\u001b[0m \u001b[0mmethod\u001b[0m\u001b[0;34m=\u001b[0m\u001b[0mmethod\u001b[0m\u001b[0;34m,\u001b[0m \u001b[0mtolerance\u001b[0m\u001b[0;34m=\u001b[0m\u001b[0mtolerance\u001b[0m\u001b[0;34m)\u001b[0m\u001b[0;34m\u001b[0m\u001b[0m\n\u001b[1;32m   2650\u001b[0m         \u001b[0;32mif\u001b[0m \u001b[0mindexer\u001b[0m\u001b[0;34m.\u001b[0m\u001b[0mndim\u001b[0m \u001b[0;34m>\u001b[0m \u001b[0;36m1\u001b[0m \u001b[0;32mor\u001b[0m \u001b[0mindexer\u001b[0m\u001b[0;34m.\u001b[0m\u001b[0msize\u001b[0m \u001b[0;34m>\u001b[0m \u001b[0;36m1\u001b[0m\u001b[0;34m:\u001b[0m\u001b[0;34m\u001b[0m\u001b[0m\n",
      "\u001b[0;32mpandas/_libs/index.pyx\u001b[0m in \u001b[0;36mpandas._libs.index.IndexEngine.get_loc\u001b[0;34m()\u001b[0m\n",
      "\u001b[0;32mpandas/_libs/index.pyx\u001b[0m in \u001b[0;36mpandas._libs.index.IndexEngine.get_loc\u001b[0;34m()\u001b[0m\n",
      "\u001b[0;32mpandas/_libs/hashtable_class_helper.pxi\u001b[0m in \u001b[0;36mpandas._libs.hashtable.PyObjectHashTable.get_item\u001b[0;34m()\u001b[0m\n",
      "\u001b[0;32mpandas/_libs/hashtable_class_helper.pxi\u001b[0m in \u001b[0;36mpandas._libs.hashtable.PyObjectHashTable.get_item\u001b[0;34m()\u001b[0m\n",
      "\u001b[0;31mKeyError\u001b[0m: 'min_auc'"
     ]
    }
   ],
   "source": [
    "# Import csv and extract the best hyperparameters\n",
    "\n",
    "path = '../store/hyperparams'\n",
    "\n",
    "hyperparams = []\n",
    "\n",
    "\n",
    "for file in os.listdir(path):\n",
    "\n",
    "    allele = 'HLA-' + file[10:-4].upper() # change to appropriate name\n",
    "    df = pd.read_csv(path + '/' + file)\n",
    "    idx = (df['min_auc'].notna() & df['mean_ppv'].notna())\n",
    "    \n",
    "    # best_3_rows = (-sp.stats.hmean([df['min_auc'][idx], df['mean_ppv'][idx]])).argsort()[:3] # for top 3 rows with best harmonic mean value\n",
    "    best_row = sp.stats.hmean([df['min_auc'][idx], df['mean_ppv'][idx]]).argmax() # for top 1 row with best harmonic mean value\n",
    "\n",
    "    \n",
    "    hyperparams.append({\n",
    "        'hla_allele': allele, \n",
    "        'padding': df['padding'][best_row],\n",
    "        #'batch_size': int(df['batch_size'][best_row]),\n",
    "        'batch_size': int(df['batch_size'][best_row]), \n",
    "        #'num_epochs': int(df['num_epochs'][best_row]),\n",
    "        'num_epochs': int(np.mean(df['num_epochs'][best_3_rows])),\n",
    "        #'learning_rate': float(df['learning_rate'][best_row])\n",
    "        'learning_rate': float(np.mean(df['learning_rate'][best_3_rows]))\n",
    "    })"
   ]
  },
  {
   "cell_type": "code",
   "execution_count": null,
   "metadata": {},
   "outputs": [
    {
     "name": "stdout",
     "output_type": "stream",
     "text": [
      "[0 m 19 s] peptide dataset initialized\n",
      "epoch 1/5 started at 0.0092 s\n",
      "train loss: 0.1387 accuracy: 0.9524 auc: 0.9451\n",
      "\n",
      "epoch 2/5 started at 20.1586 s\n",
      "train loss: 0.1367 accuracy: 0.9530 auc: 0.9507\n",
      "\n",
      "epoch 3/5 started at 40.6022 s\n",
      "train loss: 0.1375 accuracy: 0.9552 auc: 0.9555\n",
      "\n",
      "epoch 4/5 started at 57.1608 s\n"
     ]
    }
   ],
   "source": [
    "# Train models with these hyperparameters\n",
    "\n",
    "results = []\n",
    "\n",
    "impepdom.time_tracker.reset_timer() \n",
    "\n",
    "for hyp in hyperparams:\n",
    "    \n",
    "    model = impepdom.models.MultilayerPerceptron(num_hidden_layers=2, hidden_layer_size=100)\n",
    "\n",
    "    dataset = impepdom.PeptideDataset(\n",
    "        hla_allele=hyp['hla_allele'],\n",
    "        padding='flurry',\n",
    "        toy=False)\n",
    "\n",
    "    save_folder, baseline_metrics, _ = impepdom.run_experiment(\n",
    "        model=model,\n",
    "        dataset=dataset,\n",
    "        train_fold_idx=[0, 1, 2, 3],\n",
    "        learning_rate=hyp['learning_rate'],\n",
    "        num_epochs=hyp['num_epochs'],\n",
    "        batch_size=hyp['batch_size'])\n",
    "    \n",
    "    trained_model, train_history = impepdom.load_trained_model(model, save_folder)\n",
    "    \n",
    "    \n",
    "    X_test, y_test = dataset.get_fold(fold_idx=[4])\n",
    "    y_proba = model(torch.tensor(X_test, dtype=torch.float)).detach().numpy()\n",
    "    \n",
    "    results.append({\n",
    "        'hla_allele': hyp['hla_allele'],\n",
    "        'y_test': y_test,\n",
    "        'y_proba': y_proba\n",
    "        })"
   ]
  },
  {
   "cell_type": "code",
   "execution_count": 19,
   "metadata": {},
   "outputs": [],
   "source": [
    "# Report metrics\n",
    "\n",
    "allele_store = []\n",
    "n_store = []\n",
    "n_bind_store = []\n",
    "ppv_store = []\n",
    "auc_store = []\n",
    "auc_01_store = []\n",
    "ppv_100_store = []\n",
    "\n",
    "for result in results:\n",
    "    \n",
    "    y_true = result['y_test']\n",
    "    y_proba = result['y_proba']\n",
    "    \n",
    "    allele_store.append(result['hla_allele'])\n",
    "    n_store.append(len(y_true))\n",
    "    n_bind_store.append(sum(y_true == 1))\n",
    "    ppv_store.append(impepdom.metrics.ppv(y_true, y_proba))\n",
    "    auc_store.append(impepdom.metrics.auc(y_true, y_proba))\n",
    "    auc_01_store.append(impepdom.metrics.auc_01(y_true, y_proba))\n",
    "    ppv_100_store.append(impepdom.metrics.ppv_100(y_true, y_proba))\n",
    "    \n",
    "metrics_report = pd.DataFrame({\n",
    "    'Allele': allele_store,\n",
    "    'N': n_store,\n",
    "    'Nbind': n_bind_store,\n",
    "    'PPV': ppv_store,\n",
    "    'AUC': auc_store,\n",
    "    'AUC01': auc_01_store,\n",
    "    'PPV100': ppv_100_store\n",
    "    })"
   ]
  },
  {
   "cell_type": "code",
   "execution_count": 20,
   "metadata": {},
   "outputs": [
    {
     "data": {
      "text/html": [
       "<div>\n",
       "<style scoped>\n",
       "    .dataframe tbody tr th:only-of-type {\n",
       "        vertical-align: middle;\n",
       "    }\n",
       "\n",
       "    .dataframe tbody tr th {\n",
       "        vertical-align: top;\n",
       "    }\n",
       "\n",
       "    .dataframe thead th {\n",
       "        text-align: right;\n",
       "    }\n",
       "</style>\n",
       "<table border=\"1\" class=\"dataframe\">\n",
       "  <thead>\n",
       "    <tr style=\"text-align: right;\">\n",
       "      <th></th>\n",
       "      <th>Allele</th>\n",
       "      <th>N</th>\n",
       "      <th>Nbind</th>\n",
       "      <th>PPV</th>\n",
       "      <th>AUC</th>\n",
       "      <th>AUC01</th>\n",
       "      <th>PPV100</th>\n",
       "    </tr>\n",
       "  </thead>\n",
       "  <tbody>\n",
       "    <tr>\n",
       "      <th>0</th>\n",
       "      <td>HLA-B27:05</td>\n",
       "      <td>29995</td>\n",
       "      <td>1775</td>\n",
       "      <td>0.800000</td>\n",
       "      <td>0.964309</td>\n",
       "      <td>0.883939</td>\n",
       "      <td>0.92</td>\n",
       "    </tr>\n",
       "    <tr>\n",
       "      <th>1</th>\n",
       "      <td>HLA-A02:01</td>\n",
       "      <td>187844</td>\n",
       "      <td>3372</td>\n",
       "      <td>0.804567</td>\n",
       "      <td>0.901746</td>\n",
       "      <td>0.751620</td>\n",
       "      <td>1.00</td>\n",
       "    </tr>\n",
       "    <tr>\n",
       "      <th>2</th>\n",
       "      <td>HLA-B44:03</td>\n",
       "      <td>24073</td>\n",
       "      <td>1488</td>\n",
       "      <td>0.865591</td>\n",
       "      <td>0.968556</td>\n",
       "      <td>0.919545</td>\n",
       "      <td>0.98</td>\n",
       "    </tr>\n",
       "    <tr>\n",
       "      <th>3</th>\n",
       "      <td>HLA-A24:02</td>\n",
       "      <td>55304</td>\n",
       "      <td>1297</td>\n",
       "      <td>0.686970</td>\n",
       "      <td>0.961744</td>\n",
       "      <td>0.886917</td>\n",
       "      <td>0.89</td>\n",
       "    </tr>\n",
       "    <tr>\n",
       "      <th>4</th>\n",
       "      <td>HLA-B07:02</td>\n",
       "      <td>59311</td>\n",
       "      <td>2576</td>\n",
       "      <td>0.779503</td>\n",
       "      <td>0.972424</td>\n",
       "      <td>0.917895</td>\n",
       "      <td>1.00</td>\n",
       "    </tr>\n",
       "    <tr>\n",
       "      <th>5</th>\n",
       "      <td>HLA-B15:01</td>\n",
       "      <td>23235</td>\n",
       "      <td>1159</td>\n",
       "      <td>0.861087</td>\n",
       "      <td>0.965831</td>\n",
       "      <td>0.904295</td>\n",
       "      <td>0.91</td>\n",
       "    </tr>\n",
       "    <tr>\n",
       "      <th>6</th>\n",
       "      <td>HLA-A03:01</td>\n",
       "      <td>100012</td>\n",
       "      <td>2921</td>\n",
       "      <td>0.719274</td>\n",
       "      <td>0.927025</td>\n",
       "      <td>0.815874</td>\n",
       "      <td>1.00</td>\n",
       "    </tr>\n",
       "    <tr>\n",
       "      <th>7</th>\n",
       "      <td>HLA-A01:01</td>\n",
       "      <td>209698</td>\n",
       "      <td>2150</td>\n",
       "      <td>0.620465</td>\n",
       "      <td>0.915609</td>\n",
       "      <td>0.846112</td>\n",
       "      <td>1.00</td>\n",
       "    </tr>\n",
       "    <tr>\n",
       "      <th>8</th>\n",
       "      <td>HLA-A68:01</td>\n",
       "      <td>39201</td>\n",
       "      <td>2081</td>\n",
       "      <td>0.745795</td>\n",
       "      <td>0.972653</td>\n",
       "      <td>0.923003</td>\n",
       "      <td>0.98</td>\n",
       "    </tr>\n",
       "    <tr>\n",
       "      <th>9</th>\n",
       "      <td>HLA-B08:01</td>\n",
       "      <td>49804</td>\n",
       "      <td>997</td>\n",
       "      <td>0.716148</td>\n",
       "      <td>0.951253</td>\n",
       "      <td>0.904331</td>\n",
       "      <td>1.00</td>\n",
       "    </tr>\n",
       "  </tbody>\n",
       "</table>\n",
       "</div>"
      ],
      "text/plain": [
       "       Allele       N  Nbind       PPV       AUC     AUC01  PPV100\n",
       "0  HLA-B27:05   29995   1775  0.800000  0.964309  0.883939    0.92\n",
       "1  HLA-A02:01  187844   3372  0.804567  0.901746  0.751620    1.00\n",
       "2  HLA-B44:03   24073   1488  0.865591  0.968556  0.919545    0.98\n",
       "3  HLA-A24:02   55304   1297  0.686970  0.961744  0.886917    0.89\n",
       "4  HLA-B07:02   59311   2576  0.779503  0.972424  0.917895    1.00\n",
       "5  HLA-B15:01   23235   1159  0.861087  0.965831  0.904295    0.91\n",
       "6  HLA-A03:01  100012   2921  0.719274  0.927025  0.815874    1.00\n",
       "7  HLA-A01:01  209698   2150  0.620465  0.915609  0.846112    1.00\n",
       "8  HLA-A68:01   39201   2081  0.745795  0.972653  0.923003    0.98\n",
       "9  HLA-B08:01   49804    997  0.716148  0.951253  0.904331    1.00"
      ]
     },
     "execution_count": 20,
     "metadata": {},
     "output_type": "execute_result"
    }
   ],
   "source": [
    "metrics_report"
   ]
  },
  {
   "cell_type": "code",
   "execution_count": 28,
   "metadata": {},
   "outputs": [],
   "source": [
    "os.makedirs('../store/reports', exist_ok=True)\n",
    "metrics_report.to_csv('../store/reports/mlp_2x10_flurry_report_v2.csv')"
   ]
  },
  {
   "cell_type": "code",
   "execution_count": null,
   "metadata": {},
   "outputs": [],
   "source": []
  },
  {
   "cell_type": "code",
   "execution_count": null,
   "metadata": {},
   "outputs": [],
   "source": []
  },
  {
   "cell_type": "code",
   "execution_count": 4,
   "metadata": {},
   "outputs": [],
   "source": [
    "import numpy as np\n",
    "import matplotlib.pyplot as plt\n",
    "import copy"
   ]
  },
  {
   "cell_type": "code",
   "execution_count": 5,
   "metadata": {},
   "outputs": [
    {
     "data": {
      "text/plain": [
       "['../datasets/MHC_I_el_allele_specific/HLA-A01:01/c000',\n",
       " '../datasets/MHC_I_el_allele_specific/HLA-A01:01/c001',\n",
       " '../datasets/MHC_I_el_allele_specific/HLA-A01:01/c002',\n",
       " '../datasets/MHC_I_el_allele_specific/HLA-A01:01/c003',\n",
       " '../datasets/MHC_I_el_allele_specific/HLA-A01:01/c004']"
      ]
     },
     "execution_count": 5,
     "metadata": {},
     "output_type": "execute_result"
    }
   ],
   "source": [
    "num = [0,1,2,3,4]\n",
    "\n",
    "path = '../datasets/MHC_I_el_allele_specific/HLA-A01:01/'\n",
    "files = [path+'c00%d' % i for i in num]\n",
    "\n",
    "files"
   ]
  },
  {
   "cell_type": "code",
   "execution_count": 6,
   "metadata": {},
   "outputs": [],
   "source": [
    "data = [np.loadtxt(f, dtype = 'str') for f in files]\n",
    "data = np.vstack(data)"
   ]
  },
  {
   "cell_type": "code",
   "execution_count": 9,
   "metadata": {},
   "outputs": [
    {
     "data": {
      "text/plain": [
       "array([['AAAAAAAFPSLP', '0.000000'],\n",
       "       ['AAAAAAAGAAGKET', '0.000000'],\n",
       "       ['AAAAAAAGAAVLP', '0.000000'],\n",
       "       ...,\n",
       "       ['YYYYNGYNNYNYN', '0.000000'],\n",
       "       ['cLDTAQRNLY', '1.000000'],\n",
       "       ['mQQKLVDQNIFSFY', '1.000000']], dtype='<U14')"
      ]
     },
     "execution_count": 9,
     "metadata": {},
     "output_type": "execute_result"
    }
   ],
   "source": [
    "data"
   ]
  },
  {
   "cell_type": "code",
   "execution_count": 9,
   "metadata": {},
   "outputs": [],
   "source": [
    "x = data[:,0]"
   ]
  },
  {
   "cell_type": "code",
   "execution_count": 15,
   "metadata": {},
   "outputs": [],
   "source": [
    "y = data[:,1].astype('float32')"
   ]
  },
  {
   "cell_type": "code",
   "execution_count": 16,
   "metadata": {},
   "outputs": [
    {
     "data": {
      "text/plain": [
       "array([0., 0., 0., ..., 0., 1., 1.], dtype=float32)"
      ]
     },
     "execution_count": 16,
     "metadata": {},
     "output_type": "execute_result"
    }
   ],
   "source": [
    "y"
   ]
  },
  {
   "cell_type": "code",
   "execution_count": 81,
   "metadata": {},
   "outputs": [],
   "source": [
    "pep_len = []\n",
    "for i in range(len(x)):\n",
    "    length = len(x[i])\n",
    "    pep_len.append(length)"
   ]
  },
  {
   "cell_type": "code",
   "execution_count": 82,
   "metadata": {},
   "outputs": [
    {
     "data": {
      "image/png": "[encoded data removed]",
      "text/plain": [
       "<Figure size 864x432 with 1 Axes>"
      ]
     },
     "metadata": {
      "needs_background": "light"
     },
     "output_type": "display_data"
    }
   ],
   "source": [
    "plt.figure(figsize=(12,6))\n",
    "plt.hist(pep_len, bins = np.arange(min(pep_len)-0.5, max(pep_len)+1.5 , 1.0))\n",
    "plt.show()"
   ]
  },
  {
   "cell_type": "code",
   "execution_count": 83,
   "metadata": {},
   "outputs": [],
   "source": [
    "positive_num = 0\n",
    "for i in range(len(y)):\n",
    "    if y[i] == 1:\n",
    "        positive_num +=1 "
   ]
  },
  {
   "cell_type": "code",
   "execution_count": 86,
   "metadata": {},
   "outputs": [
    {
     "data": {
      "text/plain": [
       "10473"
      ]
     },
     "execution_count": 86,
     "metadata": {},
     "output_type": "execute_result"
    }
   ],
   "source": [
    "positive_num"
   ]
  },
  {
   "cell_type": "code",
   "execution_count": 3,
   "metadata": {},
   "outputs": [],
   "source": [
    "from torchvision.datasets import MNIST"
   ]
  },
  {
   "cell_type": "code",
   "execution_count": 7,
   "metadata": {},
   "outputs": [
    {
     "name": "stdout",
     "output_type": "stream",
     "text": [
      "Downloading http://yann.lecun.com/exdb/mnist/train-images-idx3-ubyte.gz to /Users/Munchic/Desktop/MNIST/MNIST/raw/train-images-idx3-ubyte.gz\n"
     ]
    },
    {
     "name": "stderr",
     "output_type": "stream",
     "text": [
      "100.1%"
     ]
    },
    {
     "name": "stdout",
     "output_type": "stream",
     "text": [
      "Extracting /Users/Munchic/Desktop/MNIST/MNIST/raw/train-images-idx3-ubyte.gz to /Users/Munchic/Desktop/MNIST/MNIST/raw\n",
      "Downloading http://yann.lecun.com/exdb/mnist/train-labels-idx1-ubyte.gz to /Users/Munchic/Desktop/MNIST/MNIST/raw/train-labels-idx1-ubyte.gz\n"
     ]
    },
    {
     "name": "stderr",
     "output_type": "stream",
     "text": [
      "113.5%"
     ]
    },
    {
     "name": "stdout",
     "output_type": "stream",
     "text": [
      "Extracting /Users/Munchic/Desktop/MNIST/MNIST/raw/train-labels-idx1-ubyte.gz to /Users/Munchic/Desktop/MNIST/MNIST/raw\n",
      "Downloading http://yann.lecun.com/exdb/mnist/t10k-images-idx3-ubyte.gz to /Users/Munchic/Desktop/MNIST/MNIST/raw/t10k-images-idx3-ubyte.gz\n"
     ]
    },
    {
     "name": "stderr",
     "output_type": "stream",
     "text": [
      "100.4%"
     ]
    },
    {
     "name": "stdout",
     "output_type": "stream",
     "text": [
      "Extracting /Users/Munchic/Desktop/MNIST/MNIST/raw/t10k-images-idx3-ubyte.gz to /Users/Munchic/Desktop/MNIST/MNIST/raw\n",
      "Downloading http://yann.lecun.com/exdb/mnist/t10k-labels-idx1-ubyte.gz to /Users/Munchic/Desktop/MNIST/MNIST/raw/t10k-labels-idx1-ubyte.gz\n"
     ]
    },
    {
     "name": "stderr",
     "output_type": "stream",
     "text": [
      "180.4%"
     ]
    },
    {
     "name": "stdout",
     "output_type": "stream",
     "text": [
      "Extracting /Users/Munchic/Desktop/MNIST/MNIST/raw/t10k-labels-idx1-ubyte.gz to /Users/Munchic/Desktop/MNIST/MNIST/raw\n",
      "Processing...\n",
      "Done!\n"
     ]
    }
   ],
   "source": [
    "mnist = MNIST(root='~/Desktop/MNIST', download=True)"
   ]
  },
  {
   "cell_type": "code",
   "execution_count": 11,
   "metadata": {},
   "outputs": [
    {
     "ename": "AttributeError",
     "evalue": "'MNIST' object has no attribute 'labels'",
     "output_type": "error",
     "traceback": [
      "\u001b[0;31m---------------------------------------------------------------------------\u001b[0m",
      "\u001b[0;31mAttributeError\u001b[0m                            Traceback (most recent call last)",
      "\u001b[0;32m<ipython-input-11-9337ad839221>\u001b[0m in \u001b[0;36m<module>\u001b[0;34m\u001b[0m\n\u001b[0;32m----> 1\u001b[0;31m \u001b[0mmnist\u001b[0m\u001b[0;34m.\u001b[0m\u001b[0mlabels\u001b[0m\u001b[0;34m\u001b[0m\u001b[0m\n\u001b[0m",
      "\u001b[0;31mAttributeError\u001b[0m: 'MNIST' object has no attribute 'labels'"
     ]
    }
   ],
   "source": [
    "mnist.labels"
   ]
  },
  {
   "cell_type": "markdown",
   "metadata": {},
   "source": [
    "can be P3, not only P2\n",
    "MHCflurry\n",
    "9mer 4 5 or 5 4\n",
    "Blossom matrix encoding\n",
    "Plot validation training\n",
    "Extract subset of 9mers (if things don't work)\n",
    "(!) NNAlign -> take set of peptides, train model, the model will run on simple feedforward network (baseline)\n",
    "AUC curve shape matters (AUC 0.1)\n",
    "PPV (positive predicted value) - take top 10 peptides for each allele, how many are positive?\n",
    "Cross validation, combine all predictions and targets and get total AUC (scaling issue)\n",
    "9-4"
   ]
  },
  {
   "cell_type": "code",
   "execution_count": 1,
   "metadata": {},
   "outputs": [],
   "source": [
    "def init_train_hist():\n",
    "    metrics = ['loss', 'acc', 'auc', 'auc0.1', 'pcc']\n",
    "    train_history = {\n",
    "        'train': {},\n",
    "        'val': {}\n",
    "    }\n",
    "\n",
    "    for metric in metrics:\n",
    "        train_history['train'][metric] = []\n",
    "        train_history['val'][metric] = []\n",
    "\n",
    "    return train_history"
   ]
  },
  {
   "cell_type": "code",
   "execution_count": 2,
   "metadata": {},
   "outputs": [
    {
     "data": {
      "text/plain": [
       "{'train': {'loss': [], 'acc': [], 'auc': [], 'auc0.1': [], 'pcc': []},\n",
       " 'val': {'loss': [], 'acc': [], 'auc': [], 'auc0.1': [], 'pcc': []}}"
      ]
     },
     "execution_count": 2,
     "metadata": {},
     "output_type": "execute_result"
    }
   ],
   "source": [
    "init_train_hist()"
   ]
  },
  {
   "cell_type": "code",
   "execution_count": 3,
   "metadata": {},
   "outputs": [],
   "source": [
    "ev = '343'"
   ]
  },
  {
   "cell_type": "code",
   "execution_count": 5,
   "metadata": {},
   "outputs": [
    {
     "data": {
      "text/plain": [
       "{'hu343': 23}"
      ]
     },
     "execution_count": 5,
     "metadata": {},
     "output_type": "execute_result"
    }
   ],
   "source": [
    "{\n",
    "    'hu' + ev: 23\n",
    "}"
   ]
  },
  {
   "cell_type": "code",
   "execution_count": 6,
   "metadata": {},
   "outputs": [],
   "source": [
    "a = [{'a': 1, 'b': 2}, {'a': 2, 'b': 1}]"
   ]
  },
  {
   "cell_type": "code",
   "execution_count": 7,
   "metadata": {},
   "outputs": [],
   "source": [
    "a.sort(key=(lambda x: x['b']))"
   ]
  },
  {
   "cell_type": "code",
   "execution_count": 8,
   "metadata": {},
   "outputs": [
    {
     "data": {
      "text/plain": [
       "[{'a': 2, 'b': 1}, {'a': 1, 'b': 2}]"
      ]
     },
     "execution_count": 8,
     "metadata": {},
     "output_type": "execute_result"
    }
   ],
   "source": [
    "a"
   ]
  },
  {
   "cell_type": "code",
   "execution_count": 12,
   "metadata": {},
   "outputs": [
    {
     "data": {
      "text/plain": [
       "2"
      ]
     },
     "execution_count": 12,
     "metadata": {},
     "output_type": "execute_result"
    }
   ],
   "source": [
    "b = [1, 2, 4, 5]\n",
    "b[b != 5]"
   ]
  },
  {
   "cell_type": "code",
   "execution_count": 20,
   "metadata": {},
   "outputs": [],
   "source": [
    "b = [1, 2, 4, 5]\n",
    "c = copy.copy(b)"
   ]
  },
  {
   "cell_type": "code",
   "execution_count": 24,
   "metadata": {},
   "outputs": [
    {
     "ename": "NameError",
     "evalue": "name 'remove' is not defined",
     "output_type": "error",
     "traceback": [
      "\u001b[0;31m---------------------------------------------------------------------------\u001b[0m",
      "\u001b[0;31mNameError\u001b[0m                                 Traceback (most recent call last)",
      "\u001b[0;32m<ipython-input-24-ac4f7a2b93e1>\u001b[0m in \u001b[0;36m<module>\u001b[0;34m\u001b[0m\n\u001b[0;32m----> 1\u001b[0;31m \u001b[0mremove\u001b[0m\u001b[0;34m(\u001b[0m\u001b[0mb\u001b[0m\u001b[0;34m,\u001b[0m \u001b[0;36m2\u001b[0m\u001b[0;34m)\u001b[0m\u001b[0;34m\u001b[0m\u001b[0m\n\u001b[0m",
      "\u001b[0;31mNameError\u001b[0m: name 'remove' is not defined"
     ]
    }
   ],
   "source": [
    "remove(b, 2)\n"
   ]
  },
  {
   "cell_type": "code",
   "execution_count": 22,
   "metadata": {},
   "outputs": [
    {
     "data": {
      "text/plain": [
       "[1, 4, 5]"
      ]
     },
     "execution_count": 22,
     "metadata": {},
     "output_type": "execute_result"
    }
   ],
   "source": [
    "c"
   ]
  },
  {
   "cell_type": "code",
   "execution_count": 23,
   "metadata": {},
   "outputs": [
    {
     "data": {
      "text/plain": [
       "[1, 2, 4, 5]"
      ]
     },
     "execution_count": 23,
     "metadata": {},
     "output_type": "execute_result"
    }
   ],
   "source": [
    "b"
   ]
  },
  {
   "cell_type": "code",
   "execution_count": 13,
   "metadata": {},
   "outputs": [
    {
     "name": "stdout",
     "output_type": "stream",
     "text": [
      "2\n"
     ]
    }
   ],
   "source": [
    "from collections import Counter\n",
    "\n",
    "a = [1,2,3,1,2,1,1,1,3,2,2, 2, 2, 2, 2, 2, 1]\n",
    "b = Counter(a)\n",
    "print(b.most_common(1)[0][0])"
   ]
  },
  {
   "cell_type": "code",
   "execution_count": 1,
   "metadata": {},
   "outputs": [
    {
     "output_type": "stream",
     "name": "stdout",
     "text": "[0 m 6 s] peptide dataset initialized\nepoch 1/5 started at 0.0005 s\ntrain loss: 0.2155 acc: 0.9902 auc: 0.5554\nval loss: 0.0719 acc: 0.9902 auc: 0.4738\n\nepoch 2/5 started at 0.3651 s\ntrain loss: 0.0712 acc: 0.9896 auc: 0.5553\nval loss: 0.0348 acc: 0.9951 auc: 0.3623\n\nepoch 3/5 started at 0.7529 s\ntrain loss: 0.0473 acc: 0.9922 auc: 0.7050\nval loss: 0.0550 acc: 0.9922 auc: 0.4670\n\nepoch 4/5 started at 1.1396 s\ntrain loss: 0.0510 acc: 0.9909 auc: 0.7390\nval loss: 0.0735 acc: 0.9902 auc: 0.4110\n\nepoch 5/5 started at 1.5242 s\ntrain loss: 0.0376 acc: 0.9932 auc: 0.7814\nval loss: 0.0481 acc: 0.9941 auc: 0.3112\n\ntraining completed in 0 m 1.9073 s\nbest validation auc: 0.4738\n"
    }
   ],
   "source": [
    "import os\n",
    "import sys\n",
    "sys.path.append(\"..\")  # add top folder to path\n",
    "\n",
    "import numpy as np\n",
    "import pandas as pd\n",
    "import matplotlib.pyplot as plt\n",
    "import pickle\n",
    "\n",
    "from sklearn.metrics import roc_auc_score\n",
    "import torch\n",
    "import impepdom\n",
    "\n",
    "model = impepdom.models.MultilayerPerceptron(num_hidden_layers=2, hidden_layer_size=100)\n",
    "dataset = impepdom.PeptideDataset(\n",
    "    hla_allele='HLA-A01:01',\n",
    "    padding='flurry',\n",
    "    toy=True)\n",
    "\n",
    "folder, baseline_metrics, _ = impepdom.run_experiment(\n",
    "    model,\n",
    "    dataset,\n",
    "    train_fold_idx=[1, 2, 3],\n",
    "    val_fold_idx=[0],\n",
    "    learning_rate=2e-3,\n",
    "    num_epochs=5,\n",
    "    batch_size=32)\n",
    "\n",
    "trained_model, train_history = impepdom.load_trained_model(model, folder)"
   ]
  },
  {
   "cell_type": "code",
   "execution_count": 3,
   "metadata": {},
   "outputs": [
    {
     "output_type": "stream",
     "name": "stdout",
     "text": "[0 m 0 s] working with allele 1 out of 1\n[0 m 7 s] peptide dataset initialized\n[0 m 7 s] running experiment 1 out of 18\n[0 m 31 s] experiment 1 results saved\n[0 m 31 s] running experiment 2 out of 18\n"
    },
    {
     "output_type": "error",
     "ename": "KeyboardInterrupt",
     "evalue": "",
     "traceback": [
      "\u001b[0;31m---------------------------------------------------------------------------\u001b[0m",
      "\u001b[0;31mKeyboardInterrupt\u001b[0m                         Traceback (most recent call last)",
      "\u001b[0;32m<ipython-input-3-5cf7354eab3a>\u001b[0m in \u001b[0;36m<module>\u001b[0;34m\u001b[0m\n\u001b[1;32m     41\u001b[0m         \u001b[0mmax_epochs\u001b[0m\u001b[0;34m=\u001b[0m\u001b[0;36m15\u001b[0m\u001b[0;34m,\u001b[0m\u001b[0;34m\u001b[0m\u001b[0m\n\u001b[1;32m     42\u001b[0m         \u001b[0mbatch_sizes\u001b[0m\u001b[0;34m=\u001b[0m\u001b[0;34m[\u001b[0m\u001b[0;36m32\u001b[0m\u001b[0;34m,\u001b[0m \u001b[0;36m64\u001b[0m\u001b[0;34m,\u001b[0m \u001b[0;36m128\u001b[0m\u001b[0;34m]\u001b[0m\u001b[0;34m,\u001b[0m\u001b[0;34m\u001b[0m\u001b[0m\n\u001b[0;32m---> 43\u001b[0;31m         \u001b[0mlearning_rates\u001b[0m\u001b[0;34m=\u001b[0m\u001b[0;34m[\u001b[0m\u001b[0;36m5e-4\u001b[0m\u001b[0;34m,\u001b[0m \u001b[0;36m1e-3\u001b[0m\u001b[0;34m,\u001b[0m \u001b[0;36m5e-3\u001b[0m\u001b[0;34m,\u001b[0m \u001b[0;36m1e-2\u001b[0m\u001b[0;34m,\u001b[0m \u001b[0;36m5e-2\u001b[0m\u001b[0;34m,\u001b[0m \u001b[0;36m1e-1\u001b[0m\u001b[0;34m]\u001b[0m\u001b[0;34m,\u001b[0m\u001b[0;34m\u001b[0m\u001b[0m\n\u001b[0m\u001b[1;32m     44\u001b[0m     )\n",
      "\u001b[0;32m~/Desktop/mhc-1-immunopeptidome-characterization/impepdom/experiment_runner.py\u001b[0m in \u001b[0;36mhyperparam_grid_search\u001b[0;34m(model, dataset, fold_idx, max_epochs, batch_sizes, learning_rates, optimizer, scheduler, sort_by)\u001b[0m\n\u001b[1;32m     87\u001b[0m                     \u001b[0mscheduler\u001b[0m\u001b[0;34m=\u001b[0m\u001b[0mscheduler\u001b[0m\u001b[0;34m,\u001b[0m\u001b[0;34m\u001b[0m\u001b[0m\n\u001b[1;32m     88\u001b[0m                     \u001b[0mshow_output\u001b[0m\u001b[0;34m=\u001b[0m\u001b[0;32mFalse\u001b[0m\u001b[0;34m,\u001b[0m\u001b[0;34m\u001b[0m\u001b[0m\n\u001b[0;32m---> 89\u001b[0;31m                     \u001b[0mwhich_model\u001b[0m\u001b[0;34m=\u001b[0m\u001b[0mwhich_model\u001b[0m\u001b[0;34m\u001b[0m\u001b[0m\n\u001b[0m\u001b[1;32m     90\u001b[0m                 )\n\u001b[1;32m     91\u001b[0m \u001b[0;34m\u001b[0m\u001b[0m\n",
      "\u001b[0;32m~/Desktop/mhc-1-immunopeptidome-characterization/impepdom/experiment_runner.py\u001b[0m in \u001b[0;36mrun_experiment\u001b[0;34m(model, dataset, train_fold_idx, val_fold_idx, criterion, optimizer, scheduler, batch_size, num_epochs, learning_rate, show_output, which_model)\u001b[0m\n\u001b[1;32m    207\u001b[0m         \u001b[0mlearning_rate\u001b[0m\u001b[0;34m=\u001b[0m\u001b[0mlearning_rate\u001b[0m\u001b[0;34m,\u001b[0m\u001b[0;34m\u001b[0m\u001b[0m\n\u001b[1;32m    208\u001b[0m         \u001b[0mvalidation\u001b[0m\u001b[0;34m=\u001b[0m\u001b[0mneed_validation\u001b[0m\u001b[0;34m,\u001b[0m\u001b[0;34m\u001b[0m\u001b[0m\n\u001b[0;32m--> 209\u001b[0;31m         \u001b[0mshow_output\u001b[0m\u001b[0;34m=\u001b[0m\u001b[0mshow_output\u001b[0m\u001b[0;34m\u001b[0m\u001b[0m\n\u001b[0m\u001b[1;32m    210\u001b[0m     )\n\u001b[1;32m    211\u001b[0m \u001b[0;34m\u001b[0m\u001b[0m\n",
      "\u001b[0;32m~/Desktop/mhc-1-immunopeptidome-characterization/impepdom/train_nn.py\u001b[0m in \u001b[0;36mtrain_nn\u001b[0;34m(model, peploader, criterion, optimizer, scheduler, num_epochs, learning_rate, validation, show_output)\u001b[0m\n\u001b[1;32m     91\u001b[0m             \u001b[0;31m# calculate metrics for the model at current epoch\u001b[0m\u001b[0;34m\u001b[0m\u001b[0;34m\u001b[0m\u001b[0m\n\u001b[1;32m     92\u001b[0m             \u001b[0mtrain_history\u001b[0m\u001b[0;34m[\u001b[0m\u001b[0mphase\u001b[0m\u001b[0;34m]\u001b[0m\u001b[0;34m[\u001b[0m\u001b[0;34m'metrics'\u001b[0m\u001b[0;34m]\u001b[0m\u001b[0;34m[\u001b[0m\u001b[0;34m'loss'\u001b[0m\u001b[0;34m]\u001b[0m\u001b[0;34m.\u001b[0m\u001b[0mappend\u001b[0m\u001b[0;34m(\u001b[0m\u001b[0mrunning_loss\u001b[0m \u001b[0;34m/\u001b[0m \u001b[0mcount\u001b[0m\u001b[0;34m)\u001b[0m\u001b[0;34m\u001b[0m\u001b[0m\n\u001b[0;32m---> 93\u001b[0;31m             \u001b[0mtrain_history\u001b[0m\u001b[0;34m[\u001b[0m\u001b[0mphase\u001b[0m\u001b[0;34m]\u001b[0m\u001b[0;34m[\u001b[0m\u001b[0;34m'metrics'\u001b[0m\u001b[0;34m]\u001b[0m \u001b[0;34m=\u001b[0m \u001b[0mimpepdom\u001b[0m\u001b[0;34m.\u001b[0m\u001b[0mmetrics\u001b[0m\u001b[0;34m.\u001b[0m\u001b[0mcalculate_metrics\u001b[0m\u001b[0;34m(\u001b[0m\u001b[0mtrain_history\u001b[0m\u001b[0;34m)\u001b[0m\u001b[0;34m[\u001b[0m\u001b[0mphase\u001b[0m\u001b[0;34m]\u001b[0m\u001b[0;34m\u001b[0m\u001b[0m\n\u001b[0m\u001b[1;32m     94\u001b[0m \u001b[0;34m\u001b[0m\u001b[0m\n\u001b[1;32m     95\u001b[0m             \u001b[0mepoch_loss\u001b[0m \u001b[0;34m=\u001b[0m \u001b[0mtrain_history\u001b[0m\u001b[0;34m[\u001b[0m\u001b[0mphase\u001b[0m\u001b[0;34m]\u001b[0m\u001b[0;34m[\u001b[0m\u001b[0;34m'metrics'\u001b[0m\u001b[0;34m]\u001b[0m\u001b[0;34m[\u001b[0m\u001b[0;34m'loss'\u001b[0m\u001b[0;34m]\u001b[0m\u001b[0;34m[\u001b[0m\u001b[0;34m-\u001b[0m\u001b[0;36m1\u001b[0m\u001b[0;34m]\u001b[0m\u001b[0;34m\u001b[0m\u001b[0m\n",
      "\u001b[0;32m~/Desktop/mhc-1-immunopeptidome-characterization/impepdom/metrics.py\u001b[0m in \u001b[0;36mcalculate_metrics\u001b[0;34m(train_history, override)\u001b[0m\n\u001b[1;32m     98\u001b[0m                         \u001b[0mcalc_metrics\u001b[0m\u001b[0;34m[\u001b[0m\u001b[0;34m'pcc'\u001b[0m\u001b[0;34m]\u001b[0m\u001b[0;34m.\u001b[0m\u001b[0mappend\u001b[0m\u001b[0;34m(\u001b[0m\u001b[0mpcc\u001b[0m\u001b[0;34m(\u001b[0m\u001b[0my_actual\u001b[0m\u001b[0;34m,\u001b[0m \u001b[0my_proba\u001b[0m\u001b[0;34m)\u001b[0m\u001b[0;34m)\u001b[0m\u001b[0;34m\u001b[0m\u001b[0m\n\u001b[1;32m     99\u001b[0m \u001b[0;34m\u001b[0m\u001b[0m\n\u001b[0;32m--> 100\u001b[0;31m                         \u001b[0mcalc_metrics\u001b[0m\u001b[0;34m[\u001b[0m\u001b[0;34m'ppv'\u001b[0m\u001b[0;34m]\u001b[0m\u001b[0;34m.\u001b[0m\u001b[0mappend\u001b[0m\u001b[0;34m(\u001b[0m\u001b[0mppv\u001b[0m\u001b[0;34m(\u001b[0m\u001b[0my_actual\u001b[0m\u001b[0;34m,\u001b[0m \u001b[0my_proba\u001b[0m\u001b[0;34m)\u001b[0m\u001b[0;34m)\u001b[0m\u001b[0;34m\u001b[0m\u001b[0m\n\u001b[0m\u001b[1;32m    101\u001b[0m                         \u001b[0mcalc_metrics\u001b[0m\u001b[0;34m[\u001b[0m\u001b[0;34m'ppv_100'\u001b[0m\u001b[0;34m]\u001b[0m\u001b[0;34m.\u001b[0m\u001b[0mappend\u001b[0m\u001b[0;34m(\u001b[0m\u001b[0mppv_100\u001b[0m\u001b[0;34m(\u001b[0m\u001b[0my_actual\u001b[0m\u001b[0;34m,\u001b[0m \u001b[0my_proba\u001b[0m\u001b[0;34m)\u001b[0m\u001b[0;34m)\u001b[0m\u001b[0;34m\u001b[0m\u001b[0m\n\u001b[1;32m    102\u001b[0m \u001b[0;34m\u001b[0m\u001b[0m\n",
      "\u001b[0;32m~/Desktop/mhc-1-immunopeptidome-characterization/impepdom/metrics.py\u001b[0m in \u001b[0;36mppv\u001b[0;34m(y_true, y_proba)\u001b[0m\n\u001b[1;32m     23\u001b[0m \u001b[0;34m\u001b[0m\u001b[0m\n\u001b[1;32m     24\u001b[0m         \u001b[0mnum_of_1s\u001b[0m \u001b[0;34m=\u001b[0m \u001b[0mnp\u001b[0m\u001b[0;34m.\u001b[0m\u001b[0msum\u001b[0m\u001b[0;34m(\u001b[0m\u001b[0my_true\u001b[0m \u001b[0;34m==\u001b[0m \u001b[0;36m1\u001b[0m\u001b[0;34m)\u001b[0m\u001b[0;34m\u001b[0m\u001b[0m\n\u001b[0;32m---> 25\u001b[0;31m         \u001b[0msorted_y_true\u001b[0m \u001b[0;34m=\u001b[0m \u001b[0mnp\u001b[0m\u001b[0;34m.\u001b[0m\u001b[0mflip\u001b[0m\u001b[0;34m(\u001b[0m\u001b[0;34m[\u001b[0m\u001b[0mx\u001b[0m \u001b[0;32mfor\u001b[0m \u001b[0m_\u001b[0m\u001b[0;34m,\u001b[0m \u001b[0mx\u001b[0m \u001b[0;32min\u001b[0m \u001b[0msorted\u001b[0m\u001b[0;34m(\u001b[0m\u001b[0mzip\u001b[0m\u001b[0;34m(\u001b[0m\u001b[0my_proba\u001b[0m\u001b[0;34m,\u001b[0m \u001b[0my_true\u001b[0m\u001b[0;34m)\u001b[0m\u001b[0;34m)\u001b[0m\u001b[0;34m]\u001b[0m\u001b[0;34m)\u001b[0m\u001b[0;34m\u001b[0m\u001b[0m\n\u001b[0m\u001b[1;32m     26\u001b[0m         \u001b[0mppv_score\u001b[0m \u001b[0;34m=\u001b[0m \u001b[0mnp\u001b[0m\u001b[0;34m.\u001b[0m\u001b[0msum\u001b[0m\u001b[0;34m(\u001b[0m\u001b[0msorted_y_true\u001b[0m\u001b[0;34m[\u001b[0m\u001b[0;34m:\u001b[0m\u001b[0mnum_of_1s\u001b[0m\u001b[0;34m]\u001b[0m \u001b[0;34m==\u001b[0m \u001b[0;36m1\u001b[0m\u001b[0;34m)\u001b[0m \u001b[0;34m/\u001b[0m \u001b[0mnum_of_1s\u001b[0m\u001b[0;34m\u001b[0m\u001b[0m\n\u001b[1;32m     27\u001b[0m \u001b[0;34m\u001b[0m\u001b[0m\n",
      "\u001b[0;31mKeyboardInterrupt\u001b[0m: "
     ]
    }
   ],
   "source": [
    "import os\n",
    "import sys\n",
    "sys.path.append(\"..\")  # add top folder to path\n",
    "\n",
    "import impepdom\n",
    "\n",
    "# os.listdir('../datasets/MHC_I_el_allele_specific')\n",
    "hla_alleles = [\n",
    "    'HLA-B44:03',  \n",
    "    'HLA-B08:01',  # >>> Khoi 1\n",
    "    'HLA-A01:01',\n",
    "    'HLA-B15:01',  \n",
    "    'HLA-A02:01', \n",
    "    'HLA-A03:01',  # <<< Khoi 1\n",
    "    'HLA-B07:02',  # >>> Khoi 2 <<<\n",
    "    'HLA-A24:02',  \n",
    "    'HLA-B27:05',  # >>> Michael\n",
    "    'HLA-A68:01'   # <<< Michael\n",
    "]\n",
    "\n",
    "hla_alleles_khoi_1 = hla_alleles[1:6]\n",
    "hla_alleles_khoi_2 = hla_alleles[6:7]\n",
    "hla_alleles_michael = hla_alleles[8:]\n",
    "hla_alleles_test = ['HLA-A01:01']\n",
    "hla_alleles_rerun = ['HLA-B44:03', 'HLA-A24:02']\n",
    "\n",
    "impepdom.time_tracker.reset_timer()  # start counting time\n",
    "\n",
    "for i, hla_allele in enumerate(hla_alleles_test):  # change allele list here\n",
    "    print(impepdom.time_tracker.now() + 'working with allele {0} out of {1}'.format(i + 1, len(hla_alleles_test)))  # change allele list here\n",
    "    \n",
    "    model = impepdom.models.MultilayerPerceptron(num_hidden_layers=2, hidden_layer_size=100)  # reset model\n",
    "    dataset = impepdom.PeptideDataset(\n",
    "        hla_allele=hla_allele,  \n",
    "        padding='flurry',\n",
    "        toy=True)\n",
    "        \n",
    "    best_config = impepdom.hyperparam_grid_search(\n",
    "        model,\n",
    "        dataset,\n",
    "        max_epochs=15,\n",
    "        batch_sizes=[32, 64],\n",
    "        learning_rates=[5e-4, 1e-3],\n",
    "    )"
   ]
  },
  {
   "cell_type": "code",
   "execution_count": null,
   "metadata": {},
   "outputs": [],
   "source": []
  }
 ],
 "metadata": {
  "kernelspec": {
   "display_name": "Python 3.6.5 64-bit ('mhc-1-immunopeptidome-characterization': pipenv)",
   "language": "python",
   "name": "python36564bitmhc1immunopeptidomecharacterizationpipenvfc41a3270a904987954d451e24bbfe16"
  },
  "language_info": {
   "codemirror_mode": {
    "name": "ipython",
    "version": 3
   },
   "file_extension": ".py",
   "mimetype": "text/x-python",
   "name": "python",
   "nbconvert_exporter": "python",
   "pygments_lexer": "ipython3",
   "version": "3.6.5-final"
  }
 },
 "nbformat": 4,
 "nbformat_minor": 4
}