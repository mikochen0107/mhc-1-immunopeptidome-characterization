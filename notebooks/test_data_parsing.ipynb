{
 "cells": [
  {
   "cell_type": "code",
   "execution_count": 2,
   "metadata": {},
   "outputs": [],
   "source": [
    "import numpy as np\n",
    "import pandas as pd\n",
    "import os"
   ]
  },
  {
   "cell_type": "code",
   "execution_count": 31,
   "metadata": {},
   "outputs": [],
   "source": [
    "# MS ligands pre-processing\n",
    "\n",
    "path = '../datasets/test_sets/MS_ligands'\n",
    "all_files = os.listdir(path)\n",
    "\n",
    "MS_ligands_data = {}\n",
    "\n",
    "for file in all_files:\n",
    "    title = file\n",
    "    data = np.loadtxt(path + '/' + file, usecols=[0,1], dtype=str)\n",
    "    np.savetxt(title, data, fmt='%s')"
   ]
  },
  {
   "cell_type": "code",
   "execution_count": 100,
   "metadata": {},
   "outputs": [],
   "source": [
    "# epitope pre-processing\n",
    "\n",
    "path = '../datasets/test_sets/epitopes/CD8_epitopes.txt'\n",
    "data = pd.read_csv(path, header=None)"
   ]
  },
  {
   "cell_type": "code",
   "execution_count": 87,
   "metadata": {},
   "outputs": [],
   "source": [
    "def generate_possible_8_to_14mers(aa_seq, pep_bind):\n",
    "    mers_store =[[],[]]\n",
    "    for i in range(len(aa_seq)):\n",
    "        for j in np.arange(8, 15):\n",
    "            if i+j <= len(aa_seq):\n",
    "                mers_store[0].append(aa_seq[i:i+j])\n",
    "                if aa_seq[i:i+j] == pep_bind:\n",
    "                    mers_store[1].append(1)\n",
    "                else:\n",
    "                    mers_store[1].append(0)\n",
    "    \n",
    "    mers_store = np.array(mers_store)\n",
    "    mers_store = mers_store.transpose()\n",
    "    \n",
    "    return pd.DataFrame(mers_store)"
   ]
  },
  {
   "cell_type": "code",
   "execution_count": 104,
   "metadata": {},
   "outputs": [],
   "source": [
    "allele_names = ['HLA-A01:01', 'HLA-A02:01', 'HLA-A03:01', 'HLA-A24:02', 'HLA-A68:01', 'HLA-B07:02', 'HLA-B08:01', 'HLA-B15:01', 'HLA-B27:05', 'HLA-B44:03']\n",
    "\n",
    "for i in np.arange(0, len(data), 2):\n",
    "    allele = data[0][i][-10:]\n",
    "    pep_bind = data[0][i][1:-11]\n",
    "    aa_seq = data[0][i+1]\n",
    "    \n",
    "    if allele in allele_names:\n",
    "        file_name = allele + '_' + pep_bind + '.txt'\n",
    "        df = generate_possible_8_to_14mers(aa_seq, pep_bind)\n",
    "        df.to_csv('../datasets/test_sets/epitopes/processed/' + file_name, sep = ' ',index = False, header=None)"
   ]
  }
 ],
 "metadata": {
  "kernelspec": {
   "display_name": "Python 3",
   "language": "python",
   "name": "python3"
  },
  "language_info": {
   "codemirror_mode": {
    "name": "ipython",
    "version": 3
   },
   "file_extension": ".py",
   "mimetype": "text/x-python",
   "name": "python",
   "nbconvert_exporter": "python",
   "pygments_lexer": "ipython3",
   "version": "3.6.5"
  }
 },
 "nbformat": 4,
 "nbformat_minor": 4
}
