{
 "cells": [
  {
   "cell_type": "code",
   "execution_count": null,
   "metadata": {},
   "outputs": [],
   "source": [
    "%reload_ext autoreload\n",
    "%autoreload 2  # reload all packages (for dev purposes)"
   ]
  },
  {
   "cell_type": "code",
   "execution_count": 2,
   "metadata": {},
   "outputs": [],
   "source": [
    "import sys\n",
    "sys.path.append(\"..\")  # add top folder to path\n",
    "import impepdom\n",
    "\n",
    "import numpy as np\n",
    "import pandas as pd\n",
    "import matplotlib.pyplot as plt"
   ]
  },
  {
   "cell_type": "code",
   "execution_count": 3,
   "metadata": {},
   "outputs": [],
   "source": [
    "data_A01 = impepdom.PeptideDataset('HLA-A01:01', padding='after2')"
   ]
  },
  {
   "cell_type": "code",
   "execution_count": 12,
   "metadata": {},
   "outputs": [],
   "source": [
    "x = data_A01.data['c000']"
   ]
  },
  {
   "cell_type": "code",
   "execution_count": 13,
   "metadata": {},
   "outputs": [],
   "source": [
    "y = data_A01.targets['c000']"
   ]
  },
  {
   "cell_type": "code",
   "execution_count": 14,
   "metadata": {},
   "outputs": [],
   "source": [
    "def get_svm_metrics(x, y):\n",
    "    '''\n",
    "    Input: x, y\n",
    "    Output: accuracy and ROC score\n",
    "    Splits the data into train and test set,  trains a SVM, predicts accuracy and ROC score\n",
    "    \n",
    "    You may choose to split up the following tasks in individual functions. \n",
    "    '''\n",
    "    \n",
    "    # split data into train and test set\n",
    "    X_train, X_test, y_train, y_test = train_test_split(x, y, test_size=0.2, random_state=42)\n",
    "    \n",
    "    # specify the SVM with its kernel\n",
    "    clf = svm.SVC(C=0.5, kernel='rbf') # C refers to the regularization parameter\n",
    "    \n",
    "    # train (fit) the classifier\n",
    "    clf.fit(X_train, y_train)\n",
    "    \n",
    "    # predict the test data\n",
    "    pred_test = clf.predict(X_test)\n",
    "    \n",
    "    # get accuracy score, ROC score\n",
    "    accuracy = accuracy_score(y_test, pred_test)\n",
    "    AUC = roc_auc_score(y_test, pred_test)\n",
    "    #precision = precision_score(y_test, pred_test)\n",
    "    recall = recall_score(y_test, pred_test)\n",
    "    \n",
    "    # return accuracy\n",
    "    return accuracy, AUC, recall"
   ]
  },
  {
   "cell_type": "code",
   "execution_count": 15,
   "metadata": {},
   "outputs": [
    {
     "data": {
      "text/plain": [
       "(0.9912988876928597, 0.5088719360018817, 0.017766497461928935)"
      ]
     },
     "execution_count": 15,
     "metadata": {},
     "output_type": "execute_result"
    }
   ],
   "source": [
    "from sklearn import svm\n",
    "from sklearn.model_selection import train_test_split\n",
    "from sklearn.metrics import roc_auc_score, accuracy_score, recall_score\n",
    "\n",
    "get_svm_metrics(x, y)"
   ]
  },
  {
   "cell_type": "code",
   "execution_count": null,
   "metadata": {},
   "outputs": [],
   "source": []
  }
 ],
 "metadata": {
  "kernelspec": {
   "display_name": "Python 3",
   "language": "python",
   "name": "python3"
  },
  "language_info": {
   "codemirror_mode": {
    "name": "ipython",
    "version": 3
   },
   "file_extension": ".py",
   "mimetype": "text/x-python",
   "name": "python",
   "nbconvert_exporter": "python",
   "pygments_lexer": "ipython3",
   "version": "3.7.1"
  }
 },
 "nbformat": 4,
 "nbformat_minor": 4
}
