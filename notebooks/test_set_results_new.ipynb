{
 "cells": [
  {
   "cell_type": "markdown",
   "metadata": {},
   "source": [
    "# Impepdom Test Set Performance Analysis"
   ]
  },
  {
   "cell_type": "code",
   "execution_count": 1,
   "metadata": {},
   "outputs": [],
   "source": [
    "import os\n",
    "import sys\n",
    "sys.path.append(\"..\")  # add top folder to path\n",
    "# from collections import Counter\n",
    "# import random\n",
    "# import copy\n",
    "\n",
    "# import numpy as np\n",
    "# import pandas as pd\n",
    "# import scipy.stats as sts\n",
    "# import matplotlib.pyplot as plt\n",
    "# import torch\n",
    "\n",
    "import impepdom"
   ]
  },
  {
   "cell_type": "markdown",
   "metadata": {},
   "source": [
    "## 1. Initializing test datasets"
   ]
  },
  {
   "cell_type": "code",
   "execution_count": 2,
   "metadata": {},
   "outputs": [
    {
     "name": "stderr",
     "output_type": "stream",
     "text": [
      "../impepdom/dataset.py:168: SettingWithCopyWarning: \n",
      "A value is trying to be set on a copy of a slice from a DataFrame\n",
      "\n",
      "See the caveats in the documentation: https://pandas.pydata.org/pandas-docs/stable/user_guide/indexing.html#returning-a-view-versus-a-copy\n",
      "  epi['peptide'][i] = self.format_seq(epi['peptide'][i])\n"
     ]
    },
    {
     "name": "stdout",
     "output_type": "stream",
     "text": [
      "[2 m 50 s] epitopes dataset initialized\n"
     ]
    }
   ],
   "source": [
    "epi_dataset_flurry = impepdom.EpitopesDataset(\n",
    "    hla_allele='HLA-A01:01',\n",
    "    padding='flurry',\n",
    ")"
   ]
  },
  {
   "cell_type": "code",
   "execution_count": 3,
   "metadata": {},
   "outputs": [],
   "source": [
    "hyp_cnn_flurry = impepdom.get_best_hyperparams('mlp_2x100_cnn_a01:01.csv', padding='flurry')"
   ]
  },
  {
   "cell_type": "code",
   "execution_count": 4,
   "metadata": {},
   "outputs": [
    {
     "data": {
      "text/plain": [
       "{'hla_allele': 'HLA-A01:01',\n",
       " 'padding': 'flurry',\n",
       " 'batch_size': 32,\n",
       " 'num_epochs': 6,\n",
       " 'learning_rate': 0.0007,\n",
       " 'min_auc': [0.9343186974226512, 0.930497976816677, 0.935205387103132],\n",
       " 'mean_ppv': [0.5999044863447609, 0.6009233348300029, 0.5940511290114937],\n",
       " 'mean_pcc': [0.6569269182965304, 0.6589301105293429, 0.6550037584822265],\n",
       " 'dropout_input': 0.16666666666666666,\n",
       " 'dropout_hidden': 0.4166666666666667,\n",
       " 'conv': False,\n",
       " 'num_conv_layers': 2,\n",
       " 'conv_filt_sz': 5,\n",
       " 'conv_stride': 1}"
      ]
     },
     "execution_count": 4,
     "metadata": {},
     "output_type": "execute_result"
    }
   ],
   "source": [
    "hyp_cnn_flurry"
   ]
  },
  {
   "cell_type": "code",
   "execution_count": 5,
   "metadata": {},
   "outputs": [
    {
     "name": "stdout",
     "output_type": "stream",
     "text": [
      "working with allele HLA-A01:01\n",
      "[1 m 15 s] training dataset initialized\n",
      "epoch 1/6 started at 0.0007 s\n",
      "train loss: 0.0336 acc: 0.9924 auc: 0.8965\n",
      "\n",
      "epoch 2/6 started at 75.2711 s\n",
      "train loss: 0.0289 acc: 0.9935 auc: 0.9131\n",
      "\n",
      "epoch 3/6 started at 152.2805 s\n",
      "train loss: 0.0279 acc: 0.9938 auc: 0.9176\n",
      "\n",
      "epoch 4/6 started at 234.2914 s\n",
      "train loss: 0.0268 acc: 0.9940 auc: 0.9217\n",
      "\n",
      "epoch 5/6 started at 344.1961 s\n",
      "train loss: 0.0259 acc: 0.9942 auc: 0.9277\n",
      "\n",
      "epoch 6/6 started at 461.4922 s\n",
      "train loss: 0.0258 acc: 0.9942 auc: 0.9301\n",
      "\n",
      "training completed in 9 m 27.3960 s\n",
      "best training auc: 0.9301\n"
     ]
    }
   ],
   "source": [
    "trained_cnn_flurry, save_folder_cnn_flurry = impepdom.make_trained_model(hyp_cnn_flurry)"
   ]
  },
  {
   "cell_type": "code",
   "execution_count": 6,
   "metadata": {},
   "outputs": [],
   "source": [
    "y_pred_cnn_flurry = impepdom.reports.get_predictions(trained_cnn_flurry, epi_dataset_flurry.data)"
   ]
  },
  {
   "cell_type": "markdown",
   "metadata": {},
   "source": [
    "## Report scores"
   ]
  },
  {
   "cell_type": "code",
   "execution_count": 7,
   "metadata": {},
   "outputs": [],
   "source": [
    "scores_cnn_flurry = impepdom.reports.get_epi_metrics(epi_dataset_flurry.targets, y_pred_cnn_flurry)\n",
    "scores_cnn_flurry_df = impepdom.reports.generate_epi_report(scores_cnn_flurry, 'cnn_mlp_2x100_a01:01_flurry.csv')"
   ]
  },
  {
   "cell_type": "code",
   "execution_count": null,
   "metadata": {},
   "outputs": [],
   "source": []
  },
  {
   "cell_type": "code",
   "execution_count": null,
   "metadata": {},
   "outputs": [],
   "source": []
  }
 ],
 "metadata": {
  "kernelspec": {
   "display_name": "Python 3",
   "language": "python",
   "name": "python3"
  },
  "language_info": {
   "codemirror_mode": {
    "name": "ipython",
    "version": 3
   },
   "file_extension": ".py",
   "mimetype": "text/x-python",
   "name": "python",
   "nbconvert_exporter": "python",
   "pygments_lexer": "ipython3",
   "version": "3.6.5"
  }
 },
 "nbformat": 4,
 "nbformat_minor": 4
}
