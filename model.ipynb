{
 "cells": [
  {
   "cell_type": "code",
   "execution_count": 1,
   "metadata": {},
   "outputs": [],
   "source": [
    "import numpy as np\n",
    "import pandas as pd\n",
    "import matplotlib.pyplot as plt"
   ]
  },
  {
   "cell_type": "code",
   "execution_count": null,
   "metadata": {},
   "outputs": [],
   "source": [
    "class Dataset:\n",
    "    data = # numpy array n data points by m features\n",
    "    targets = # numpy array (vector) length n\n",
    "    \n",
    "    def __init__(self, path_to_csv):\n",
    "        data, targets = self.parse_csv(path_to_csv)\n",
    "        \n",
    "        self.data, self.targets = data, targets\n",
    "        \n",
    "    def parse_csv():\n",
    "        \n",
    "        self.encode(data)\n",
    "        pass\n",
    "    \n",
    "    def encode(string):\n",
    "        '''\n",
    "        Converts a string into an binary array of features.\n",
    "        \n",
    "        Parameters\n",
    "        ----------\n",
    "        string: str\n",
    "            Sequence of amino acids (all CAPS)\n",
    "        \n",
    "        Returns\n",
    "        ----------\n",
    "        features: ndarray\n",
    "            Flat vector encoding each amino acid (N x 1)\n",
    "        '''\n",
    "        "
   ]
  },
  {
   "cell_type": "code",
   "execution_count": null,
   "metadata": {},
   "outputs": [],
   "source": []
  }
 ],
 "metadata": {
  "kernelspec": {
   "display_name": "Python 3",
   "language": "python",
   "name": "python3"
  },
  "language_info": {
   "codemirror_mode": {
    "name": "ipython",
    "version": 3
   },
   "file_extension": ".py",
   "mimetype": "text/x-python",
   "name": "python",
   "nbconvert_exporter": "python",
   "pygments_lexer": "ipython3",
   "version": "3.7.1"
  }
 },
 "nbformat": 4,
 "nbformat_minor": 4
}
